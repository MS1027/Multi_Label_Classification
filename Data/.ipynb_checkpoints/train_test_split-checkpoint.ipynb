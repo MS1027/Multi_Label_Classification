{
 "cells": [
  {
   "cell_type": "code",
   "execution_count": 1,
   "id": "761b328d",
   "metadata": {},
   "outputs": [],
   "source": [
    "import pandas as pd\n",
    "import numpy as np"
   ]
  },
  {
   "cell_type": "code",
   "execution_count": 2,
   "id": "b729b6e4",
   "metadata": {},
   "outputs": [],
   "source": [
    "df = pd.read_csv(\"Selenium/Data.csv\")"
   ]
  },
  {
   "cell_type": "code",
   "execution_count": 3,
   "id": "2360eb6e",
   "metadata": {},
   "outputs": [
    {
     "data": {
      "text/html": [
       "<div>\n",
       "<style scoped>\n",
       "    .dataframe tbody tr th:only-of-type {\n",
       "        vertical-align: middle;\n",
       "    }\n",
       "\n",
       "    .dataframe tbody tr th {\n",
       "        vertical-align: top;\n",
       "    }\n",
       "\n",
       "    .dataframe thead th {\n",
       "        text-align: right;\n",
       "    }\n",
       "</style>\n",
       "<table border=\"1\" class=\"dataframe\">\n",
       "  <thead>\n",
       "    <tr style=\"text-align: right;\">\n",
       "      <th></th>\n",
       "      <th>Player</th>\n",
       "      <th>Tackles</th>\n",
       "      <th>Inter</th>\n",
       "      <th>Clear</th>\n",
       "      <th>Blocks</th>\n",
       "      <th>SpG</th>\n",
       "      <th>KeyP</th>\n",
       "      <th>Drb</th>\n",
       "      <th>Fouled</th>\n",
       "      <th>PS%</th>\n",
       "      <th>...</th>\n",
       "      <th>LongB</th>\n",
       "      <th>ThrB</th>\n",
       "      <th>CF</th>\n",
       "      <th>WF</th>\n",
       "      <th>AM</th>\n",
       "      <th>WM</th>\n",
       "      <th>CM</th>\n",
       "      <th>DM</th>\n",
       "      <th>FB</th>\n",
       "      <th>CB</th>\n",
       "    </tr>\n",
       "  </thead>\n",
       "  <tbody>\n",
       "    <tr>\n",
       "      <th>0</th>\n",
       "      <td>Kevin De Bruyne Man City</td>\n",
       "      <td>0.9</td>\n",
       "      <td>0.2</td>\n",
       "      <td>0.4</td>\n",
       "      <td>0.1</td>\n",
       "      <td>2.2</td>\n",
       "      <td>3.2</td>\n",
       "      <td>1.0</td>\n",
       "      <td>0.8</td>\n",
       "      <td>79.5</td>\n",
       "      <td>...</td>\n",
       "      <td>2.5</td>\n",
       "      <td>0.4</td>\n",
       "      <td>1</td>\n",
       "      <td>0</td>\n",
       "      <td>0</td>\n",
       "      <td>1</td>\n",
       "      <td>1</td>\n",
       "      <td>0</td>\n",
       "      <td>0</td>\n",
       "      <td>0</td>\n",
       "    </tr>\n",
       "    <tr>\n",
       "      <th>1</th>\n",
       "      <td>Kieran Trippier Newcastle</td>\n",
       "      <td>2.0</td>\n",
       "      <td>1.3</td>\n",
       "      <td>1.9</td>\n",
       "      <td>0.4</td>\n",
       "      <td>0.4</td>\n",
       "      <td>2.9</td>\n",
       "      <td>0.5</td>\n",
       "      <td>0.9</td>\n",
       "      <td>74.7</td>\n",
       "      <td>...</td>\n",
       "      <td>3.4</td>\n",
       "      <td>0.2</td>\n",
       "      <td>0</td>\n",
       "      <td>0</td>\n",
       "      <td>0</td>\n",
       "      <td>1</td>\n",
       "      <td>0</td>\n",
       "      <td>0</td>\n",
       "      <td>1</td>\n",
       "      <td>0</td>\n",
       "    </tr>\n",
       "    <tr>\n",
       "      <th>2</th>\n",
       "      <td>Gabriel Jesus Arsenal</td>\n",
       "      <td>1.2</td>\n",
       "      <td>0.5</td>\n",
       "      <td>0.5</td>\n",
       "      <td>0.1</td>\n",
       "      <td>3.3</td>\n",
       "      <td>1.4</td>\n",
       "      <td>2.0</td>\n",
       "      <td>2.4</td>\n",
       "      <td>82.3</td>\n",
       "      <td>...</td>\n",
       "      <td>0.5</td>\n",
       "      <td>0.1</td>\n",
       "      <td>1</td>\n",
       "      <td>1</td>\n",
       "      <td>0</td>\n",
       "      <td>0</td>\n",
       "      <td>0</td>\n",
       "      <td>0</td>\n",
       "      <td>0</td>\n",
       "      <td>0</td>\n",
       "    </tr>\n",
       "    <tr>\n",
       "      <th>3</th>\n",
       "      <td>Erling Haaland Man City</td>\n",
       "      <td>0.1</td>\n",
       "      <td>0.1</td>\n",
       "      <td>0.4</td>\n",
       "      <td>0.1</td>\n",
       "      <td>3.5</td>\n",
       "      <td>0.8</td>\n",
       "      <td>0.2</td>\n",
       "      <td>0.7</td>\n",
       "      <td>75.6</td>\n",
       "      <td>...</td>\n",
       "      <td>0.0</td>\n",
       "      <td>0.1</td>\n",
       "      <td>1</td>\n",
       "      <td>0</td>\n",
       "      <td>0</td>\n",
       "      <td>0</td>\n",
       "      <td>0</td>\n",
       "      <td>0</td>\n",
       "      <td>0</td>\n",
       "      <td>0</td>\n",
       "    </tr>\n",
       "    <tr>\n",
       "      <th>4</th>\n",
       "      <td>Harry Kane Tottenham</td>\n",
       "      <td>0.3</td>\n",
       "      <td>0.1</td>\n",
       "      <td>0.4</td>\n",
       "      <td>0.2</td>\n",
       "      <td>3.6</td>\n",
       "      <td>1.5</td>\n",
       "      <td>1.2</td>\n",
       "      <td>1.4</td>\n",
       "      <td>72.2</td>\n",
       "      <td>...</td>\n",
       "      <td>1.9</td>\n",
       "      <td>0.2</td>\n",
       "      <td>1</td>\n",
       "      <td>0</td>\n",
       "      <td>1</td>\n",
       "      <td>0</td>\n",
       "      <td>0</td>\n",
       "      <td>0</td>\n",
       "      <td>0</td>\n",
       "      <td>0</td>\n",
       "    </tr>\n",
       "  </tbody>\n",
       "</table>\n",
       "<p>5 rows × 21 columns</p>\n",
       "</div>"
      ],
      "text/plain": [
       "                      Player  Tackles  Inter  Clear  Blocks  SpG  KeyP  Drb  \\\n",
       "0   Kevin De Bruyne Man City      0.9    0.2    0.4     0.1  2.2   3.2  1.0   \n",
       "1  Kieran Trippier Newcastle      2.0    1.3    1.9     0.4  0.4   2.9  0.5   \n",
       "2      Gabriel Jesus Arsenal      1.2    0.5    0.5     0.1  3.3   1.4  2.0   \n",
       "3    Erling Haaland Man City      0.1    0.1    0.4     0.1  3.5   0.8  0.2   \n",
       "4       Harry Kane Tottenham      0.3    0.1    0.4     0.2  3.6   1.5  1.2   \n",
       "\n",
       "   Fouled   PS%  ...  LongB  ThrB  CF  WF  AM  WM  CM  DM  FB  CB  \n",
       "0     0.8  79.5  ...    2.5   0.4   1   0   0   1   1   0   0   0  \n",
       "1     0.9  74.7  ...    3.4   0.2   0   0   0   1   0   0   1   0  \n",
       "2     2.4  82.3  ...    0.5   0.1   1   1   0   0   0   0   0   0  \n",
       "3     0.7  75.6  ...    0.0   0.1   1   0   0   0   0   0   0   0  \n",
       "4     1.4  72.2  ...    1.9   0.2   1   0   1   0   0   0   0   0  \n",
       "\n",
       "[5 rows x 21 columns]"
      ]
     },
     "execution_count": 3,
     "metadata": {},
     "output_type": "execute_result"
    }
   ],
   "source": [
    "df.head()"
   ]
  },
  {
   "cell_type": "code",
   "execution_count": 4,
   "id": "907fde27",
   "metadata": {},
   "outputs": [],
   "source": [
    "X = df.iloc[:, 1:13]"
   ]
  },
  {
   "cell_type": "code",
   "execution_count": 5,
   "id": "51b3ae3c",
   "metadata": {},
   "outputs": [],
   "source": [
    "y = df.iloc[:, 13:]"
   ]
  },
  {
   "cell_type": "code",
   "execution_count": 6,
   "id": "7263e856",
   "metadata": {},
   "outputs": [],
   "source": [
    "X = X.to_numpy()"
   ]
  },
  {
   "cell_type": "code",
   "execution_count": 7,
   "id": "8818093b",
   "metadata": {},
   "outputs": [],
   "source": [
    "y = y.to_numpy()"
   ]
  },
  {
   "cell_type": "code",
   "execution_count": 8,
   "id": "6d524cc8",
   "metadata": {},
   "outputs": [],
   "source": [
    "from sklearn.preprocessing import MinMaxScaler"
   ]
  },
  {
   "cell_type": "code",
   "execution_count": 9,
   "id": "31fb3dc1",
   "metadata": {},
   "outputs": [],
   "source": [
    "scaler = MinMaxScaler()"
   ]
  },
  {
   "cell_type": "code",
   "execution_count": 10,
   "id": "bfdb9ebc",
   "metadata": {},
   "outputs": [],
   "source": [
    "X = scaler.fit_transform(X)"
   ]
  },
  {
   "cell_type": "code",
   "execution_count": 11,
   "id": "29f5bb90",
   "metadata": {},
   "outputs": [],
   "source": [
    "from skmultilearn.model_selection import iterative_train_test_split"
   ]
  },
  {
   "cell_type": "code",
   "execution_count": 12,
   "id": "af540b38",
   "metadata": {},
   "outputs": [],
   "source": [
    "X_train, y_train, X_test, y_test = iterative_train_test_split(X, y, test_size=0.3)"
   ]
  },
  {
   "cell_type": "code",
   "execution_count": 13,
   "id": "8e3bdc2e",
   "metadata": {},
   "outputs": [],
   "source": [
    "X_tr = pd.DataFrame(X_train)"
   ]
  },
  {
   "cell_type": "code",
   "execution_count": 14,
   "id": "9423366d",
   "metadata": {},
   "outputs": [],
   "source": [
    "X_tr.columns = df.columns[1:13]"
   ]
  },
  {
   "cell_type": "code",
   "execution_count": 15,
   "id": "b5355464",
   "metadata": {},
   "outputs": [],
   "source": [
    "X_tst = pd.DataFrame(X_test)"
   ]
  },
  {
   "cell_type": "code",
   "execution_count": 16,
   "id": "fa3188e9",
   "metadata": {},
   "outputs": [],
   "source": [
    "X_tst.columns = df.columns[1:13]"
   ]
  },
  {
   "cell_type": "code",
   "execution_count": 17,
   "id": "d9b228b2",
   "metadata": {},
   "outputs": [],
   "source": [
    "y_tr = pd.DataFrame(y_train)"
   ]
  },
  {
   "cell_type": "code",
   "execution_count": 18,
   "id": "4b4e856e",
   "metadata": {},
   "outputs": [],
   "source": [
    "y_tr.columns = df.columns[13:]"
   ]
  },
  {
   "cell_type": "code",
   "execution_count": 19,
   "id": "7501d59c",
   "metadata": {},
   "outputs": [],
   "source": [
    "y_tst = pd.DataFrame(y_test)"
   ]
  },
  {
   "cell_type": "code",
   "execution_count": 20,
   "id": "fc976481",
   "metadata": {},
   "outputs": [],
   "source": [
    "y_tst.columns = df.columns[13:]"
   ]
  },
  {
   "cell_type": "code",
   "execution_count": 21,
   "id": "9c2da167",
   "metadata": {},
   "outputs": [],
   "source": [
    "pd.DataFrame(X_tr).to_csv(\"X_train.csv\", index=False)"
   ]
  },
  {
   "cell_type": "code",
   "execution_count": 22,
   "id": "96b34070",
   "metadata": {},
   "outputs": [],
   "source": [
    "pd.DataFrame(X_tst).to_csv(\"X_test.csv\", index=False)"
   ]
  },
  {
   "cell_type": "code",
   "execution_count": 23,
   "id": "aa982c63",
   "metadata": {},
   "outputs": [],
   "source": [
    "pd.DataFrame(y_tr).to_csv(\"y_train.csv\", index=False)"
   ]
  },
  {
   "cell_type": "code",
   "execution_count": 24,
   "id": "9882b1d9",
   "metadata": {},
   "outputs": [],
   "source": [
    "pd.DataFrame(y_tst).to_csv(\"y_test.csv\", index=False)"
   ]
  },
  {
   "cell_type": "code",
   "execution_count": 25,
   "id": "ceeb2cce",
   "metadata": {},
   "outputs": [
    {
     "data": {
      "text/html": [
       "<div>\n",
       "<style scoped>\n",
       "    .dataframe tbody tr th:only-of-type {\n",
       "        vertical-align: middle;\n",
       "    }\n",
       "\n",
       "    .dataframe tbody tr th {\n",
       "        vertical-align: top;\n",
       "    }\n",
       "\n",
       "    .dataframe thead th {\n",
       "        text-align: right;\n",
       "    }\n",
       "</style>\n",
       "<table border=\"1\" class=\"dataframe\">\n",
       "  <thead>\n",
       "    <tr style=\"text-align: right;\">\n",
       "      <th></th>\n",
       "      <th>Tackles</th>\n",
       "      <th>Inter</th>\n",
       "      <th>Clear</th>\n",
       "      <th>Blocks</th>\n",
       "      <th>SpG</th>\n",
       "      <th>KeyP</th>\n",
       "      <th>Drb</th>\n",
       "      <th>Fouled</th>\n",
       "      <th>PS%</th>\n",
       "      <th>Crosses</th>\n",
       "      <th>LongB</th>\n",
       "      <th>ThrB</th>\n",
       "    </tr>\n",
       "  </thead>\n",
       "  <tbody>\n",
       "    <tr>\n",
       "      <th>0</th>\n",
       "      <td>0.073171</td>\n",
       "      <td>0.04</td>\n",
       "      <td>0.049383</td>\n",
       "      <td>0.090909</td>\n",
       "      <td>0.750000</td>\n",
       "      <td>0.441176</td>\n",
       "      <td>0.342857</td>\n",
       "      <td>0.378378</td>\n",
       "      <td>0.545098</td>\n",
       "      <td>0.052632</td>\n",
       "      <td>0.243590</td>\n",
       "      <td>0.153846</td>\n",
       "    </tr>\n",
       "    <tr>\n",
       "      <th>1</th>\n",
       "      <td>0.512195</td>\n",
       "      <td>0.40</td>\n",
       "      <td>0.135802</td>\n",
       "      <td>0.227273</td>\n",
       "      <td>0.354167</td>\n",
       "      <td>0.323529</td>\n",
       "      <td>0.228571</td>\n",
       "      <td>0.135135</td>\n",
       "      <td>0.921569</td>\n",
       "      <td>0.026316</td>\n",
       "      <td>0.679487</td>\n",
       "      <td>0.076923</td>\n",
       "    </tr>\n",
       "    <tr>\n",
       "      <th>2</th>\n",
       "      <td>0.243902</td>\n",
       "      <td>0.04</td>\n",
       "      <td>0.037037</td>\n",
       "      <td>0.045455</td>\n",
       "      <td>0.562500</td>\n",
       "      <td>0.676471</td>\n",
       "      <td>0.400000</td>\n",
       "      <td>0.189189</td>\n",
       "      <td>0.784314</td>\n",
       "      <td>0.184211</td>\n",
       "      <td>0.192308</td>\n",
       "      <td>0.230769</td>\n",
       "    </tr>\n",
       "    <tr>\n",
       "      <th>3</th>\n",
       "      <td>0.414634</td>\n",
       "      <td>0.32</td>\n",
       "      <td>0.111111</td>\n",
       "      <td>0.045455</td>\n",
       "      <td>0.500000</td>\n",
       "      <td>0.470588</td>\n",
       "      <td>0.457143</td>\n",
       "      <td>0.351351</td>\n",
       "      <td>0.662745</td>\n",
       "      <td>0.263158</td>\n",
       "      <td>0.269231</td>\n",
       "      <td>0.076923</td>\n",
       "    </tr>\n",
       "    <tr>\n",
       "      <th>4</th>\n",
       "      <td>0.170732</td>\n",
       "      <td>0.20</td>\n",
       "      <td>0.123457</td>\n",
       "      <td>0.136364</td>\n",
       "      <td>0.604167</td>\n",
       "      <td>0.235294</td>\n",
       "      <td>0.114286</td>\n",
       "      <td>0.594595</td>\n",
       "      <td>0.309804</td>\n",
       "      <td>0.052632</td>\n",
       "      <td>0.051282</td>\n",
       "      <td>0.153846</td>\n",
       "    </tr>\n",
       "  </tbody>\n",
       "</table>\n",
       "</div>"
      ],
      "text/plain": [
       "    Tackles  Inter     Clear    Blocks       SpG      KeyP       Drb  \\\n",
       "0  0.073171   0.04  0.049383  0.090909  0.750000  0.441176  0.342857   \n",
       "1  0.512195   0.40  0.135802  0.227273  0.354167  0.323529  0.228571   \n",
       "2  0.243902   0.04  0.037037  0.045455  0.562500  0.676471  0.400000   \n",
       "3  0.414634   0.32  0.111111  0.045455  0.500000  0.470588  0.457143   \n",
       "4  0.170732   0.20  0.123457  0.136364  0.604167  0.235294  0.114286   \n",
       "\n",
       "     Fouled       PS%   Crosses     LongB      ThrB  \n",
       "0  0.378378  0.545098  0.052632  0.243590  0.153846  \n",
       "1  0.135135  0.921569  0.026316  0.679487  0.076923  \n",
       "2  0.189189  0.784314  0.184211  0.192308  0.230769  \n",
       "3  0.351351  0.662745  0.263158  0.269231  0.076923  \n",
       "4  0.594595  0.309804  0.052632  0.051282  0.153846  "
      ]
     },
     "execution_count": 25,
     "metadata": {},
     "output_type": "execute_result"
    }
   ],
   "source": [
    "X_tr.head()"
   ]
  },
  {
   "cell_type": "code",
   "execution_count": 26,
   "id": "e0e6b608",
   "metadata": {},
   "outputs": [],
   "source": [
    "X_df = pd.DataFrame(X)"
   ]
  },
  {
   "cell_type": "code",
   "execution_count": 27,
   "id": "532021a0",
   "metadata": {},
   "outputs": [],
   "source": [
    "X_df.columns = X_tr.columns.to_list()"
   ]
  },
  {
   "cell_type": "code",
   "execution_count": 28,
   "id": "d2ba2468",
   "metadata": {},
   "outputs": [
    {
     "data": {
      "text/plain": [
       "Index(['Tackles', 'Inter', 'Clear', 'Blocks', 'SpG', 'KeyP', 'Drb', 'Fouled',\n",
       "       'PS%', 'Crosses', 'LongB', 'ThrB'],\n",
       "      dtype='object')"
      ]
     },
     "execution_count": 28,
     "metadata": {},
     "output_type": "execute_result"
    }
   ],
   "source": [
    "X_df.columns"
   ]
  },
  {
   "cell_type": "code",
   "execution_count": 29,
   "id": "4b63d29d",
   "metadata": {},
   "outputs": [],
   "source": [
    "X_df['Player'] = df[['Player']]"
   ]
  },
  {
   "cell_type": "code",
   "execution_count": 30,
   "id": "abc783b0",
   "metadata": {},
   "outputs": [],
   "source": [
    "X_df = X_df[['Player', 'Tackles', 'Inter', 'Clear', 'Blocks', 'SpG', 'KeyP', 'Drb', 'Fouled',\n",
    "       'PS%', 'Crosses', 'LongB', 'ThrB']]"
   ]
  },
  {
   "cell_type": "code",
   "execution_count": 31,
   "id": "d94b1452",
   "metadata": {},
   "outputs": [],
   "source": [
    "df_X_tr = pd.merge(X_tr, X_df, on=X_tr.columns.to_list())"
   ]
  },
  {
   "cell_type": "code",
   "execution_count": 32,
   "id": "e23bfbaf",
   "metadata": {},
   "outputs": [],
   "source": [
    "df_X_tr = df_X_tr[['Player', 'Tackles', 'Inter', 'Clear', 'Blocks', 'SpG', 'KeyP', 'Drb', 'Fouled',\n",
    "       'PS%', 'Crosses', 'LongB', 'ThrB']]"
   ]
  },
  {
   "cell_type": "code",
   "execution_count": 33,
   "id": "879e6090",
   "metadata": {},
   "outputs": [],
   "source": [
    "df_X_tr.to_csv(\"X_train.csv\", index=False)"
   ]
  },
  {
   "cell_type": "code",
   "execution_count": 34,
   "id": "0441be59",
   "metadata": {},
   "outputs": [],
   "source": [
    "df_X_tst = pd.merge(X_tst, X_df, on=X_tst.columns.to_list())"
   ]
  },
  {
   "cell_type": "code",
   "execution_count": 35,
   "id": "34c7c248",
   "metadata": {},
   "outputs": [],
   "source": [
    "df_X_tst = df_X_tst[['Player', 'Tackles', 'Inter', 'Clear', 'Blocks', 'SpG', 'KeyP', 'Drb', 'Fouled',\n",
    "       'PS%', 'Crosses', 'LongB', 'ThrB']]"
   ]
  },
  {
   "cell_type": "code",
   "execution_count": 36,
   "id": "10ed31b7",
   "metadata": {},
   "outputs": [],
   "source": [
    "df_X_tst.to_csv(\"X_test.csv\", index=False)"
   ]
  }
 ],
 "metadata": {
  "kernelspec": {
   "display_name": "Python 3 (ipykernel)",
   "language": "python",
   "name": "python3"
  },
  "language_info": {
   "codemirror_mode": {
    "name": "ipython",
    "version": 3
   },
   "file_extension": ".py",
   "mimetype": "text/x-python",
   "name": "python",
   "nbconvert_exporter": "python",
   "pygments_lexer": "ipython3",
   "version": "3.9.12"
  }
 },
 "nbformat": 4,
 "nbformat_minor": 5
}
